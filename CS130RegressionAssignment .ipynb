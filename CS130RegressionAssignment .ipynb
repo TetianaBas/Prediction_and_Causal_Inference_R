{
 "cells": [
  {
   "cell_type": "code",
   "execution_count": 1,
   "id": "5fdd4573",
   "metadata": {},
   "outputs": [
    {
     "data": {
      "text/html": [
       "<table>\n",
       "<thead><tr><th scope=col>treatment</th><th scope=col>pri2000s</th><th scope=col>pri2000v</th><th scope=col>t2000</th><th scope=col>t2000r</th><th scope=col>pri1994</th><th scope=col>pan1994</th><th scope=col>prd1994</th><th scope=col>pri1994s</th><th scope=col>pri1994v</th><th scope=col>pan1994s</th><th scope=col>pan1994v</th><th scope=col>prd1994s</th><th scope=col>prd1994v</th><th scope=col>t1994</th><th scope=col>t1994r</th><th scope=col>votos1994</th><th scope=col>avgpoverty</th><th scope=col>pobtot1994</th><th scope=col>villages</th></tr></thead>\n",
       "<tbody>\n",
       "\t<tr><td>1         </td><td>40.82397  </td><td>73.15436  </td><td> 55.80524 </td><td>60.56911  </td><td>102       </td><td> 3        </td><td>23        </td><td>45.75989  </td><td>77.27273  </td><td>1.345879  </td><td>2.272727  </td><td>10.3184067</td><td>17.424242 </td><td>60.56456  </td><td>67.00508  </td><td>135       </td><td>5.0       </td><td> 541      </td><td>4         </td></tr>\n",
       "\t<tr><td>1         </td><td>22.44186  </td><td>73.52381  </td><td> 31.22093 </td><td>50.28736  </td><td>245       </td><td>18        </td><td>14        </td><td>15.11538  </td><td>65.68365  </td><td>1.110518  </td><td>4.825737  </td><td> 0.8637358</td><td> 3.753351 </td><td>23.81443  </td><td>55.83832  </td><td>386       </td><td>5.0       </td><td>3289      </td><td>2         </td></tr>\n",
       "\t<tr><td>1         </td><td>38.93130  </td><td>87.03072  </td><td> 47.02290 </td><td>42.52540  </td><td> 52       </td><td> 8        </td><td> 4        </td><td> 7.98857  </td><td>50.98039  </td><td>1.229011  </td><td>7.843137  </td><td> 0.6145054</td><td> 3.921569 </td><td>21.66131  </td><td>35.54007  </td><td>141       </td><td>4.5       </td><td>1320      </td><td>2         </td></tr>\n",
       "\t<tr><td>1         </td><td>31.16883  </td><td>71.28713  </td><td> 45.02164 </td><td>49.75369  </td><td> 58       </td><td> 6        </td><td> 7        </td><td>29.16215  </td><td>73.41772  </td><td>3.016775  </td><td>7.594937  </td><td> 3.5195705</td><td> 8.860759 </td><td>40.22366  </td><td>56.83453  </td><td> 80       </td><td>5.0       </td><td> 384      </td><td>1         </td></tr>\n",
       "\t<tr><td>0         </td><td>76.92308  </td><td>78.94737  </td><td>100.00000 </td><td>48.40764  </td><td> 30       </td><td> 0        </td><td>38        </td><td>20.17038  </td><td>43.47826  </td><td>0.000000  </td><td>0.000000  </td><td>25.5491525</td><td>55.072464 </td><td>46.39188  </td><td>48.59155  </td><td> 69       </td><td>5.0       </td><td> 307      </td><td>1         </td></tr>\n",
       "\t<tr><td>0         </td><td>23.85321  </td><td>65.40881  </td><td> 37.38532 </td><td>34.79212  </td><td>128       </td><td> 0        </td><td>20        </td><td>32.81974  </td><td>51.82186  </td><td>0.000000  </td><td>0.000000  </td><td> 5.1280838</td><td> 8.097166 </td><td>63.33183  </td><td>68.61111  </td><td>247       </td><td>5.0       </td><td> 840      </td><td>6         </td></tr>\n",
       "</tbody>\n",
       "</table>\n"
      ],
      "text/latex": [
       "\\begin{tabular}{r|llllllllllllllllllll}\n",
       " treatment & pri2000s & pri2000v & t2000 & t2000r & pri1994 & pan1994 & prd1994 & pri1994s & pri1994v & pan1994s & pan1994v & prd1994s & prd1994v & t1994 & t1994r & votos1994 & avgpoverty & pobtot1994 & villages\\\\\n",
       "\\hline\n",
       "\t 1          & 40.82397   & 73.15436   &  55.80524  & 60.56911   & 102        &  3         & 23         & 45.75989   & 77.27273   & 1.345879   & 2.272727   & 10.3184067 & 17.424242  & 60.56456   & 67.00508   & 135        & 5.0        &  541       & 4         \\\\\n",
       "\t 1          & 22.44186   & 73.52381   &  31.22093  & 50.28736   & 245        & 18         & 14         & 15.11538   & 65.68365   & 1.110518   & 4.825737   &  0.8637358 &  3.753351  & 23.81443   & 55.83832   & 386        & 5.0        & 3289       & 2         \\\\\n",
       "\t 1          & 38.93130   & 87.03072   &  47.02290  & 42.52540   &  52        &  8         &  4         &  7.98857   & 50.98039   & 1.229011   & 7.843137   &  0.6145054 &  3.921569  & 21.66131   & 35.54007   & 141        & 4.5        & 1320       & 2         \\\\\n",
       "\t 1          & 31.16883   & 71.28713   &  45.02164  & 49.75369   &  58        &  6         &  7         & 29.16215   & 73.41772   & 3.016775   & 7.594937   &  3.5195705 &  8.860759  & 40.22366   & 56.83453   &  80        & 5.0        &  384       & 1         \\\\\n",
       "\t 0          & 76.92308   & 78.94737   & 100.00000  & 48.40764   &  30        &  0         & 38         & 20.17038   & 43.47826   & 0.000000   & 0.000000   & 25.5491525 & 55.072464  & 46.39188   & 48.59155   &  69        & 5.0        &  307       & 1         \\\\\n",
       "\t 0          & 23.85321   & 65.40881   &  37.38532  & 34.79212   & 128        &  0         & 20         & 32.81974   & 51.82186   & 0.000000   & 0.000000   &  5.1280838 &  8.097166  & 63.33183   & 68.61111   & 247        & 5.0        &  840       & 6         \\\\\n",
       "\\end{tabular}\n"
      ],
      "text/markdown": [
       "\n",
       "| treatment | pri2000s | pri2000v | t2000 | t2000r | pri1994 | pan1994 | prd1994 | pri1994s | pri1994v | pan1994s | pan1994v | prd1994s | prd1994v | t1994 | t1994r | votos1994 | avgpoverty | pobtot1994 | villages |\n",
       "|---|---|---|---|---|---|---|---|---|---|---|---|---|---|---|---|---|---|---|---|\n",
       "| 1          | 40.82397   | 73.15436   |  55.80524  | 60.56911   | 102        |  3         | 23         | 45.75989   | 77.27273   | 1.345879   | 2.272727   | 10.3184067 | 17.424242  | 60.56456   | 67.00508   | 135        | 5.0        |  541       | 4          |\n",
       "| 1          | 22.44186   | 73.52381   |  31.22093  | 50.28736   | 245        | 18         | 14         | 15.11538   | 65.68365   | 1.110518   | 4.825737   |  0.8637358 |  3.753351  | 23.81443   | 55.83832   | 386        | 5.0        | 3289       | 2          |\n",
       "| 1          | 38.93130   | 87.03072   |  47.02290  | 42.52540   |  52        |  8         |  4         |  7.98857   | 50.98039   | 1.229011   | 7.843137   |  0.6145054 |  3.921569  | 21.66131   | 35.54007   | 141        | 4.5        | 1320       | 2          |\n",
       "| 1          | 31.16883   | 71.28713   |  45.02164  | 49.75369   |  58        |  6         |  7         | 29.16215   | 73.41772   | 3.016775   | 7.594937   |  3.5195705 |  8.860759  | 40.22366   | 56.83453   |  80        | 5.0        |  384       | 1          |\n",
       "| 0          | 76.92308   | 78.94737   | 100.00000  | 48.40764   |  30        |  0         | 38         | 20.17038   | 43.47826   | 0.000000   | 0.000000   | 25.5491525 | 55.072464  | 46.39188   | 48.59155   |  69        | 5.0        |  307       | 1          |\n",
       "| 0          | 23.85321   | 65.40881   |  37.38532  | 34.79212   | 128        |  0         | 20         | 32.81974   | 51.82186   | 0.000000   | 0.000000   |  5.1280838 |  8.097166  | 63.33183   | 68.61111   | 247        | 5.0        |  840       | 6          |\n",
       "\n"
      ],
      "text/plain": [
       "  treatment pri2000s pri2000v t2000     t2000r   pri1994 pan1994 prd1994\n",
       "1 1         40.82397 73.15436  55.80524 60.56911 102      3      23     \n",
       "2 1         22.44186 73.52381  31.22093 50.28736 245     18      14     \n",
       "3 1         38.93130 87.03072  47.02290 42.52540  52      8       4     \n",
       "4 1         31.16883 71.28713  45.02164 49.75369  58      6       7     \n",
       "5 0         76.92308 78.94737 100.00000 48.40764  30      0      38     \n",
       "6 0         23.85321 65.40881  37.38532 34.79212 128      0      20     \n",
       "  pri1994s pri1994v pan1994s pan1994v prd1994s   prd1994v  t1994    t1994r  \n",
       "1 45.75989 77.27273 1.345879 2.272727 10.3184067 17.424242 60.56456 67.00508\n",
       "2 15.11538 65.68365 1.110518 4.825737  0.8637358  3.753351 23.81443 55.83832\n",
       "3  7.98857 50.98039 1.229011 7.843137  0.6145054  3.921569 21.66131 35.54007\n",
       "4 29.16215 73.41772 3.016775 7.594937  3.5195705  8.860759 40.22366 56.83453\n",
       "5 20.17038 43.47826 0.000000 0.000000 25.5491525 55.072464 46.39188 48.59155\n",
       "6 32.81974 51.82186 0.000000 0.000000  5.1280838  8.097166 63.33183 68.61111\n",
       "  votos1994 avgpoverty pobtot1994 villages\n",
       "1 135       5.0         541       4       \n",
       "2 386       5.0        3289       2       \n",
       "3 141       4.5        1320       2       \n",
       "4  80       5.0         384       1       \n",
       "5  69       5.0         307       1       \n",
       "6 247       5.0         840       6       "
      ]
     },
     "metadata": {},
     "output_type": "display_data"
    }
   ],
   "source": [
    "#preliminary work \n",
    "#read data\n",
    "\n",
    "df <- read.csv(\"C:/Users/Admin/Downloads/progresa (1).csv\")\n",
    "head(df)\n",
    "\n",
    "#omit NA\n",
    "progresa = na.omit(df)"
   ]
  },
  {
   "cell_type": "code",
   "execution_count": 23,
   "id": "d716e755",
   "metadata": {},
   "outputs": [],
   "source": [
    "# split the dataset into treatment and non-treatment groups\n",
    "treat <- subset(progresa, treatment == \"1\")\n",
    "no_treat <- subset(progresa, treatment == \"0\")\n"
   ]
  },
  {
   "cell_type": "code",
   "execution_count": 27,
   "id": "a3eabaad",
   "metadata": {},
   "outputs": [
    {
     "data": {
      "text/html": [
       "4.57347685055767"
      ],
      "text/latex": [
       "4.57347685055767"
      ],
      "text/markdown": [
       "4.57347685055767"
      ],
      "text/plain": [
       "[1] 4.573477"
      ]
     },
     "metadata": {},
     "output_type": "display_data"
    },
    {
     "data": {
      "text/html": [
       "4.58883498717045"
      ],
      "text/latex": [
       "4.58883498717045"
      ],
      "text/markdown": [
       "4.58883498717045"
      ],
      "text/plain": [
       "[1] 4.588835"
      ]
     },
     "metadata": {},
     "output_type": "display_data"
    },
    {
     "data": {
      "text/html": [
       "68.0682160837991"
      ],
      "text/latex": [
       "68.0682160837991"
      ],
      "text/markdown": [
       "68.0682160837991"
      ],
      "text/plain": [
       "[1] 68.06822"
      ]
     },
     "metadata": {},
     "output_type": "display_data"
    },
    {
     "data": {
      "text/html": [
       "63.8148336036914"
      ],
      "text/latex": [
       "63.8148336036914"
      ],
      "text/markdown": [
       "63.8148336036914"
      ],
      "text/plain": [
       "[1] 63.81483"
      ]
     },
     "metadata": {},
     "output_type": "display_data"
    },
    {
     "data": {
      "text/html": [
       "38.1545066719593"
      ],
      "text/latex": [
       "38.1545066719593"
      ],
      "text/markdown": [
       "38.1545066719593"
      ],
      "text/plain": [
       "[1] 38.15451"
      ]
     },
     "metadata": {},
     "output_type": "display_data"
    },
    {
     "data": {
      "text/html": [
       "34.4889522921564"
      ],
      "text/latex": [
       "34.4889522921564"
      ],
      "text/markdown": [
       "34.4889522921564"
      ],
      "text/plain": [
       "[1] 34.48895"
      ]
     },
     "metadata": {},
     "output_type": "display_data"
    }
   ],
   "source": [
    "#part 1L histograms \n",
    "\n",
    "poverty_treat <- treat[['avgpoverty']]  #average poverty index\n",
    "poverty_no_treat <- no_treat[['avgpoverty']]\n",
    "\n",
    "mean(poverty_treat)\n",
    "mean(poverty_no_treat)\n",
    "\n",
    "\n",
    "ptr_treat <- treat[['t2000']] #previous turnout rate (share of the population)\n",
    "ptr_no_treat <- no_treat[['t2000']]\n",
    "\n",
    "mean(ptr_treat)\n",
    "mean(ptr_no_treat)\n",
    "\n",
    "pri_treat <- treat[['pri2000s']] #previous PRI support rate (share of population).\n",
    "pri_no_treat <- no_treat[['pri2000s']]\n",
    "\n",
    "mean(pri_treat)\n",
    "mean(pri_no_treat)\n",
    "\n",
    "#min(poverty_treat)\n",
    "#max(poverty_treat)\n",
    "\n",
    "#min(poverty_no_treat)\n",
    "#max(poverty_no_treat)\n",
    "\n",
    "#min(ptr_treat)\n",
    "#max(ptr_treat)\n",
    "\n",
    "#min(ptr_no_treat)\n",
    "#max(ptr_no_treat)\n",
    "\n",
    "#min(pri_treat)\n",
    "#max(pri_treat)\n",
    "\n",
    "#min(pri_no_treat)\n",
    "#max(pri_no_treat)\n",
    "\n"
   ]
  },
  {
   "cell_type": "code",
   "execution_count": 5,
   "id": "41e65287",
   "metadata": {},
   "outputs": [
    {
     "data": {
      "image/png": "[encoded data removed]",
      "text/plain": [
       "Plot with title \"Histogram of Poverty Index (Treated Group)\""
      ]
     },
     "metadata": {},
     "output_type": "display_data"
    },
    {
     "data": {
      "image/png": "[encoded data removed]",
      "text/plain": [
       "Plot with title \"Histogram of Poverty Index (Control Group)\""
      ]
     },
     "metadata": {},
     "output_type": "display_data"
    }
   ],
   "source": [
    "\n",
    "# Histogram of poverty_treat\n",
    "hist(poverty_treat, main = \"Histogram of Poverty Index (Treated Group)\", xlab = \"Poverty Index\",xlim = c(3, 5), col = \"red\",breaks = seq(min(poverty_treat), max(poverty_treat) + 0.2, by = 0.1))\n",
    "\n",
    "# Histogram of poverty_no_treat\n",
    "hist(poverty_no_treat, main = \"Histogram of Poverty Index (Control Group)\", xlab = \"Poverty Index\",xlim = c(3, 5), col = \"blue\",breaks = seq(min(poverty_no_treat), max(poverty_no_treat) + 0.2, by = 0.1))\n",
    "\n"
   ]
  },
  {
   "cell_type": "code",
   "execution_count": 6,
   "id": "71ccc2ef",
   "metadata": {},
   "outputs": [
    {
     "data": {
      "image/png": "[encoded data removed]",
      "text/plain": [
       "Plot with title \"Histogram of Previous Turnout Rate (Treated Group)\""
      ]
     },
     "metadata": {},
     "output_type": "display_data"
    },
    {
     "data": {
      "image/png": "[encoded data removed]",
      "text/plain": [
       "Plot with title \"Histogram of Previous Turnout Rate (Control Group)\""
      ]
     },
     "metadata": {},
     "output_type": "display_data"
    }
   ],
   "source": [
    "# Histogram of ptr_treat\n",
    "hist(ptr_treat, main = \"Histogram of Previous Turnout Rate (Treated Group)\", xlab = \"Turnout Rate\",xlim = c(1, 400), col = \"red\",breaks = seq(min(ptr_treat), max(ptr_treat) + 1, by = 5))\n",
    "\n",
    "# Histogram of ptr_no_treat\n",
    "hist(ptr_no_treat, main = \"Histogram of Previous Turnout Rate (Control Group)\", xlab = \"Turnout Rate\",xlim = c(1, 400), col = \"blue\",breaks = seq(min(ptr_no_treat), max(ptr_no_treat) + 1, by = 5))\n",
    "\n"
   ]
  },
  {
   "cell_type": "code",
   "execution_count": 7,
   "id": "18d47260",
   "metadata": {},
   "outputs": [
    {
     "data": {
      "image/png": "[encoded data removed]",
      "text/plain": [
       "Plot with title \"Histogram of Previous PRI Support Rate (Treated Group)\""
      ]
     },
     "metadata": {},
     "output_type": "display_data"
    },
    {
     "data": {
      "image/png": "[encoded data removed]",
      "text/plain": [
       "Plot with title \"Histogram of Previous PRI Support Rate (Control Group)\""
      ]
     },
     "metadata": {},
     "output_type": "display_data"
    }
   ],
   "source": [
    "# Histogram of pri_treat\n",
    "hist(pri_treat, main = \"Histogram of Previous PRI Support Rate (Treated Group)\", xlab = \"PRI Support Rate\",xlim = c(0, 150), col = \"red\",breaks = seq(min(pri_treat), max(pri_treat) + 1, by = 2))\n",
    "\n",
    "# Histogram of pri_no_treat\n",
    "hist(pri_no_treat, main = \"Histogram of Previous PRI Support Rate (Control Group)\", xlab = \"PRI Support Rate\",xlim = c(0, 150), col = \"blue\",breaks = seq(min(pri_no_treat), max(pri_no_treat) + 1, by = 2))\n",
    "\n",
    "\n"
   ]
  },
  {
   "cell_type": "code",
   "execution_count": 8,
   "id": "d99cd3aa",
   "metadata": {},
   "outputs": [
    {
     "data": {
      "text/plain": [
       "\n",
       "Call:\n",
       "lm(formula = t2000r ~ treatment + avgpoverty + log(pobtot1994) + \n",
       "    t1994r + pri1994v + pan1994v + prd1994, data = progresa)\n",
       "\n",
       "Residuals:\n",
       "    Min      1Q  Median      3Q     Max \n",
       "-38.006  -4.728  -0.035   4.869  28.839 \n",
       "\n",
       "Coefficients:\n",
       "                 Estimate Std. Error t value Pr(>|t|)    \n",
       "(Intercept)     41.686112   7.218763   5.775 1.53e-08 ***\n",
       "treatment       -1.114710   0.817827  -1.363 0.173629    \n",
       "avgpoverty      -0.251473   0.894900  -0.281 0.778848    \n",
       "log(pobtot1994) -0.668774   0.516456  -1.295 0.196077    \n",
       "t1994r           0.221483   0.031340   7.067 6.89e-12 ***\n",
       "pri1994v         0.067370   0.033531   2.009 0.045175 *  \n",
       "pan1994v         0.212120   0.054835   3.868 0.000128 ***\n",
       "prd1994          0.013452   0.008212   1.638 0.102157    \n",
       "---\n",
       "Signif. codes:  0 '***' 0.001 '**' 0.01 '*' 0.05 '.' 0.1 ' ' 1\n",
       "\n",
       "Residual standard error: 7.806 on 408 degrees of freedom\n",
       "Multiple R-squared:  0.1786,\tAdjusted R-squared:  0.1646 \n",
       "F-statistic: 12.68 on 7 and 408 DF,  p-value: 9.566e-15\n"
      ]
     },
     "metadata": {},
     "output_type": "display_data"
    },
    {
     "data": {
      "text/plain": [
       "\n",
       "Call:\n",
       "lm(formula = pri2000v ~ treatment + avgpoverty + log(pobtot1994) + \n",
       "    t1994r + pri1994v + pan1994v + prd1994, data = progresa)\n",
       "\n",
       "Residuals:\n",
       "    Min      1Q  Median      3Q     Max \n",
       "-38.408  -7.648   0.599   7.950  33.020 \n",
       "\n",
       "Coefficients:\n",
       "                Estimate Std. Error t value Pr(>|t|)    \n",
       "(Intercept)     34.69950   11.71229   2.963  0.00323 ** \n",
       "treatment        0.87742    1.32691   0.661  0.50883    \n",
       "avgpoverty       2.89820    1.45196   1.996  0.04659 *  \n",
       "log(pobtot1994) -1.45615    0.83794  -1.738  0.08301 .  \n",
       "t1994r          -0.07449    0.05085  -1.465  0.14370    \n",
       "pri1994v         0.44265    0.05440   8.137 4.96e-15 ***\n",
       "pan1994v        -0.40133    0.08897  -4.511 8.45e-06 ***\n",
       "prd1994         -0.04107    0.01332  -3.083  0.00219 ** \n",
       "---\n",
       "Signif. codes:  0 '***' 0.001 '**' 0.01 '*' 0.05 '.' 0.1 ' ' 1\n",
       "\n",
       "Residual standard error: 12.66 on 408 degrees of freedom\n",
       "Multiple R-squared:  0.4873,\tAdjusted R-squared:  0.4785 \n",
       "F-statistic: 55.39 on 7 and 408 DF,  p-value: < 2.2e-16\n"
      ]
     },
     "metadata": {},
     "output_type": "display_data"
    }
   ],
   "source": [
    "#part 2 run regression \n",
    "\n",
    "model1 <- lm(t2000r ~ treatment + avgpoverty +  log(pobtot1994) +\n",
    "t1994r + pri1994v + pan1994v+ prd1994,\n",
    "data = progresa)\n",
    "summary(model1)\n",
    "\n",
    "model2 <- lm(pri2000v ~ treatment + avgpoverty +  log(pobtot1994) +\n",
    "t1994r + pri1994v + pan1994v+ prd1994,\n",
    "data = progresa)\n",
    "summary(model2)\n",
    "\n"
   ]
  },
  {
   "cell_type": "code",
   "execution_count": 38,
   "id": "d093f505",
   "metadata": {},
   "outputs": [],
   "source": [
    "#part 3 confidence intervals \n",
    "\n",
    "\n",
    "sim = function(object = lm1, n.sims=100){\n",
    "    summ <- summary (object)\n",
    "    coef <- summ$coef[,1:2,drop=FALSE]\n",
    "    dimnames(coef)[[2]] <- c(\"coef.est\",\"coef.sd\")\n",
    "    sigma.hat <- summ$sigma\n",
    "    beta.hat <- coef[,1,drop = FALSE]\n",
    "    V.beta <- summ$cov.unscaled\n",
    "    n <- summ$df[1] + summ$df[2]\n",
    "    k <- summ$df[1]\n",
    "    sigma <- rep (NA, n.sims)\n",
    "    beta <- array (NA, c(n.sims,k))\n",
    "    dimnames(beta) <- list (NULL, rownames(beta.hat))\n",
    "    for (s in 1:n.sims){\n",
    "        sigma[s] <- sigma.hat*sqrt((n-k)/rchisq(1,n-k))\n",
    "        beta[s,] <- MASS::mvrnorm (1, beta.hat, V.beta*sigma[s]^2)\n",
    "    }\n",
    "    ans <- list(coef = beta,\n",
    "                sigma = sigma)\n",
    "    return (ans)\n",
    "}\n",
    "\n",
    "#the code is taken from session 5 cs130 "
   ]
  },
  {
   "cell_type": "code",
   "execution_count": 30,
   "id": "7b97f575",
   "metadata": {},
   "outputs": [],
   "source": [
    "model1_simulated <- sim(model1,n.sims=1000)\n",
    "total_result0 <- model1_simulated$coef\n",
    "total_result <- total_result0[,-1]\n",
    "treatment_result <- total_result[,1]\n",
    "avgpoverty_result <- total_result[,2]\n",
    "pobtot1994_result <- total_result[,3]\n",
    "t1994r_result <- total_result[,4]\n",
    "pri1994v_result <- total_result[,5]\n",
    "pan1994v_result <- total_result[,6]\n",
    "prd1994_result <- total_result[,7]\n",
    "\n"
   ]
  },
  {
   "cell_type": "code",
   "execution_count": 31,
   "id": "1d144c2d",
   "metadata": {},
   "outputs": [
    {
     "data": {
      "text/html": [
       "<table>\n",
       "<thead><tr><th></th><th scope=col>treatment</th><th scope=col>pri2000s</th><th scope=col>pri2000v</th><th scope=col>t2000</th><th scope=col>t2000r</th><th scope=col>pri1994</th><th scope=col>pan1994</th><th scope=col>prd1994</th><th scope=col>pri1994s</th><th scope=col>pri1994v</th><th scope=col>...</th><th scope=col>prd1994s</th><th scope=col>prd1994v</th><th scope=col>t1994</th><th scope=col>t1994r</th><th scope=col>votos1994</th><th scope=col>avgpoverty</th><th scope=col>pobtot1994</th><th scope=col>villages</th><th scope=col>ind</th><th scope=col>interaction</th></tr></thead>\n",
       "<tbody>\n",
       "\t<tr><th scope=row>93</th><td>0       </td><td>51.92308</td><td>79.88166</td><td>69.80769</td><td>68.14516</td><td>219     </td><td>5       </td><td>13      </td><td>51.89127</td><td>90.12346</td><td>...     </td><td>3.080304</td><td>5.349794</td><td>67.29279</td><td>66.57534</td><td>284     </td><td>5       </td><td>940     </td><td>2       </td><td>0       </td><td>0       </td></tr>\n",
       "</tbody>\n",
       "</table>\n"
      ],
      "text/latex": [
       "\\begin{tabular}{r|llllllllllllllllllllll}\n",
       "  & treatment & pri2000s & pri2000v & t2000 & t2000r & pri1994 & pan1994 & prd1994 & pri1994s & pri1994v & ... & prd1994s & prd1994v & t1994 & t1994r & votos1994 & avgpoverty & pobtot1994 & villages & ind & interaction\\\\\n",
       "\\hline\n",
       "\t93 & 0        & 51.92308 & 79.88166 & 69.80769 & 68.14516 & 219      & 5        & 13       & 51.89127 & 90.12346 & ...      & 3.080304 & 5.349794 & 67.29279 & 66.57534 & 284      & 5        & 940      & 2        & 0        & 0       \\\\\n",
       "\\end{tabular}\n"
      ],
      "text/markdown": [
       "\n",
       "| <!--/--> | treatment | pri2000s | pri2000v | t2000 | t2000r | pri1994 | pan1994 | prd1994 | pri1994s | pri1994v | ... | prd1994s | prd1994v | t1994 | t1994r | votos1994 | avgpoverty | pobtot1994 | villages | ind | interaction |\n",
       "|---|---|---|---|---|---|---|---|---|---|---|---|---|---|---|---|---|---|---|---|---|---|\n",
       "| 93 | 0        | 51.92308 | 79.88166 | 69.80769 | 68.14516 | 219      | 5        | 13       | 51.89127 | 90.12346 | ...      | 3.080304 | 5.349794 | 67.29279 | 66.57534 | 284      | 5        | 940      | 2        | 0        | 0        |\n",
       "\n"
      ],
      "text/plain": [
       "   treatment pri2000s pri2000v t2000    t2000r   pri1994 pan1994 prd1994\n",
       "93 0         51.92308 79.88166 69.80769 68.14516 219     5       13     \n",
       "   pri1994s pri1994v ... prd1994s prd1994v t1994    t1994r   votos1994\n",
       "93 51.89127 90.12346 ... 3.080304 5.349794 67.29279 66.57534 284      \n",
       "   avgpoverty pobtot1994 villages ind interaction\n",
       "93 5          940        2        0   0          "
      ]
     },
     "metadata": {},
     "output_type": "display_data"
    }
   ],
   "source": [
    "\n",
    "# Select the row with index 92\n",
    "row92 <- progresa[92, ]\n",
    "row92\n"
   ]
  },
  {
   "cell_type": "code",
   "execution_count": 32,
   "id": "456b5fd0",
   "metadata": {},
   "outputs": [],
   "source": [
    "expected_outcomes <-list()\n",
    "#without error \n",
    "for (i in 1:nrow(total_result)) {\n",
    "    row_values <- total_result[i]\n",
    "    individual_outcome <-(treatment_result[i]*0+ avgpoverty_result[i]*5 + pobtot1994_result[i]*log(940) + t1994r_result[i]*67.2927 + pri1994v_result[i]*90.12346 + pan1994v_result[i]*2.057613 + prd1994_result[i]* 5.349794)\n",
    "    expected_outcomes[[i]] <- individual_outcome\n",
    "}\n",
    "\n",
    "\n"
   ]
  },
  {
   "cell_type": "code",
   "execution_count": 33,
   "id": "0d12b776",
   "metadata": {},
   "outputs": [],
   "source": [
    "#introducing error term \n",
    "set.seed(123)\n",
    "error_term <- rnorm(100,mean =2,sd=1)\n",
    "predicted_outcomes <-list()\n",
    "for (i in 1:nrow(total_result)) {\n",
    "    row_values <- total_result[i]\n",
    "    individual_outcome <-(treatment_result[i]*0+ avgpoverty_result[i]*5 + pobtot1994_result[i]*log(940) + t1994r_result[i]*67.2927 + pri1994v_result[i]*90.12346 + pan1994v_result[i]*2.057613 + prd1994_result[i]* 5.349794+error_term)\n",
    "    predicted_outcomes[[i]] <- individual_outcome\n",
    "}\n",
    "\n",
    "\n"
   ]
  },
  {
   "cell_type": "code",
   "execution_count": 39,
   "id": "5b75326f",
   "metadata": {},
   "outputs": [
    {
     "data": {
      "text/html": [
       "<dl class=dl-horizontal>\n",
       "\t<dt>2.5%</dt>\n",
       "\t\t<dd>0.653898946709942</dd>\n",
       "\t<dt>97.5%</dt>\n",
       "\t\t<dd>30.073817165277</dd>\n",
       "</dl>\n"
      ],
      "text/latex": [
       "\\begin{description*}\n",
       "\\item[2.5\\textbackslash{}\\%] 0.653898946709942\n",
       "\\item[97.5\\textbackslash{}\\%] 30.073817165277\n",
       "\\end{description*}\n"
      ],
      "text/markdown": [
       "2.5%\n",
       ":   0.65389894670994297.5%\n",
       ":   30.073817165277\n",
       "\n"
      ],
      "text/plain": [
       "      2.5%      97.5% \n",
       " 0.6538989 30.0738172 "
      ]
     },
     "metadata": {},
     "output_type": "display_data"
    }
   ],
   "source": [
    "#computing confidence intervals \n",
    "\n",
    "expected <-unlist(expected_outcomes)\n",
    "interval<- quantile(expected, c(0.025, 0.975))\n",
    "interval\n"
   ]
  },
  {
   "cell_type": "code",
   "execution_count": 40,
   "id": "85abc3ca",
   "metadata": {},
   "outputs": [
    {
     "data": {
      "text/html": [
       "<dl class=dl-horizontal>\n",
       "\t<dt>2.5%</dt>\n",
       "\t\t<dd>2.7472696234462</dd>\n",
       "\t<dt>97.5%</dt>\n",
       "\t\t<dd>32.6078445013204</dd>\n",
       "</dl>\n"
      ],
      "text/latex": [
       "\\begin{description*}\n",
       "\\item[2.5\\textbackslash{}\\%] 2.7472696234462\n",
       "\\item[97.5\\textbackslash{}\\%] 32.6078445013204\n",
       "\\end{description*}\n"
      ],
      "text/markdown": [
       "2.5%\n",
       ":   2.747269623446297.5%\n",
       ":   32.6078445013204\n",
       "\n"
      ],
      "text/plain": [
       "    2.5%    97.5% \n",
       " 2.74727 32.60784 "
      ]
     },
     "metadata": {},
     "output_type": "display_data"
    }
   ],
   "source": [
    "\n",
    "predicted <-unlist(predicted_outcomes)\n",
    "interval<- quantile(predicted, c(0.025, 0.975))\n",
    "interval"
   ]
  },
  {
   "cell_type": "code",
   "execution_count": 41,
   "id": "8d230e7c",
   "metadata": {},
   "outputs": [
    {
     "data": {
      "image/png": "[encoded data removed]",
      "text/plain": [
       "Plot with title \"Confidence interval (95%) for predicted value of voter turnout\""
      ]
     },
     "metadata": {},
     "output_type": "display_data"
    }
   ],
   "source": [
    "#plotting \n",
    "\n",
    "plot(density(expected),xlab = \"predicted values for voters turnout\", ylab = \"density\",main = \"Confidence interval (95%) for predicted value of voter turnout\")\n",
    "abline(v=interval[1],lty = 2)\n",
    "abline(v=interval[2],lty = 2)"
   ]
  },
  {
   "cell_type": "code",
   "execution_count": 37,
   "id": "93e3ee72",
   "metadata": {},
   "outputs": [
    {
     "data": {
      "image/png": "[encoded data removed]",
      "text/plain": [
       "Plot with title \"Confidence interval (95%) for expected value of voter turnout\""
      ]
     },
     "metadata": {},
     "output_type": "display_data"
    }
   ],
   "source": [
    "plot(density(predicted),xlab = \"expected values for voters turnout\", ylab = \"density\",main = \"Confidence interval (95%) for expected value of voter turnout\")\n",
    "abline(v=interval[1],lty = 2)\n",
    "abline(v=interval[2],lty = 2)"
   ]
  },
  {
   "cell_type": "code",
   "execution_count": null,
   "id": "3945dce5",
   "metadata": {},
   "outputs": [],
   "source": []
  },
  {
   "cell_type": "code",
   "execution_count": null,
   "id": "3d6a31e8",
   "metadata": {},
   "outputs": [],
   "source": []
  },
  {
   "cell_type": "code",
   "execution_count": null,
   "id": "0a9daf64",
   "metadata": {},
   "outputs": [],
   "source": []
  },
  {
   "cell_type": "code",
   "execution_count": 46,
   "id": "b81fbcfb",
   "metadata": {},
   "outputs": [
    {
     "data": {
      "text/plain": [
       "\n",
       "Call:\n",
       "lm(formula = t2000r ~ treatment + avgpoverty + pobtot1994 + t1994r + \n",
       "    pri1994v + pan1994v + prd1994 + interaction, data = progresa)\n",
       "\n",
       "Residuals:\n",
       "    Min      1Q  Median      3Q     Max \n",
       "-38.404  -4.526   0.099   4.955  29.213 \n",
       "\n",
       "Coefficients:\n",
       "              Estimate Std. Error t value Pr(>|t|)    \n",
       "(Intercept)  3.685e+01  6.184e+00   5.958 5.53e-09 ***\n",
       "treatment   -1.008e+00  8.163e-01  -1.234 0.217755    \n",
       "avgpoverty  -3.201e-01  9.139e-01  -0.350 0.726307    \n",
       "pobtot1994  -5.981e-05  5.832e-05  -1.026 0.305714    \n",
       "t1994r       2.277e-01  3.060e-02   7.440 6.04e-13 ***\n",
       "pri1994v     7.160e-02  3.644e-02   1.965 0.050082 .  \n",
       "pan1994v     2.107e-01  5.583e-02   3.774 0.000185 ***\n",
       "prd1994      9.293e-03  7.613e-03   1.221 0.222956    \n",
       "interaction  2.303e-02  3.292e-02   0.700 0.484573    \n",
       "---\n",
       "Signif. codes:  0 '***' 0.001 '**' 0.01 '*' 0.05 '.' 0.1 ' ' 1\n",
       "\n",
       "Residual standard error: 7.816 on 407 degrees of freedom\n",
       "Multiple R-squared:  0.1784,\tAdjusted R-squared:  0.1623 \n",
       "F-statistic: 11.05 on 8 and 407 DF,  p-value: 3.746e-14\n"
      ]
     },
     "metadata": {},
     "output_type": "display_data"
    }
   ],
   "source": [
    "\n",
    "#part 4 interaction term \n",
    "\n",
    "#Create the indicator variable\n",
    "progresa$ind <- ifelse(progresa$prd1994v > 50, 1, 0) \n",
    "\n",
    "#make interaction term \n",
    "progresa$interaction <- progresa$prd1994v * progresa$ind\n",
    "\n",
    "model_interaction <- lm(t2000r ~ treatment + avgpoverty + pobtot1994 +\n",
    "              t1994r + pri1994v + pan1994v + prd1994 + interaction,\n",
    "            data = progresa)\n",
    "\n",
    "summary(model_interaction)"
   ]
  },
  {
   "cell_type": "code",
   "execution_count": null,
   "id": "2bf584d3",
   "metadata": {},
   "outputs": [],
   "source": []
  },
  {
   "cell_type": "code",
   "execution_count": 101,
   "id": "549d594e",
   "metadata": {},
   "outputs": [
    {
     "data": {
      "text/html": [
       "-5.98441409941555e-05"
      ],
      "text/latex": [
       "-5.98441409941555e-05"
      ],
      "text/markdown": [
       "-5.98441409941555e-05"
      ],
      "text/plain": [
       "[1] -5.984414e-05"
      ]
     },
     "metadata": {},
     "output_type": "display_data"
    },
    {
     "data": {
      "text/html": [
       "-0.992580711070058"
      ],
      "text/latex": [
       "-0.992580711070058"
      ],
      "text/markdown": [
       "-0.992580711070058"
      ],
      "text/plain": [
       "[1] -0.9925807"
      ]
     },
     "metadata": {},
     "output_type": "display_data"
    },
    {
     "name": "stdout",
     "output_type": "stream",
     "text": [
      "The p-value for the treatment effect is 1 \n"
     ]
    }
   ],
   "source": [
    "model_interaction.sim = sim(model_interaction, n.sims = 1000)\n",
    "\n",
    "slopes <- model_interaction.sim[[1]][, 4]\n",
    "intercepts <- model_interaction.sim[[1]][, 2]\n",
    "\n",
    "mean(slopes)\n",
    "mean(intercepts)\n",
    "\n",
    "all_coefs <- model_interaction.sim$coef\n",
    "#select treatment coefficients \n",
    "treatment_coefs <- all_coefs[,c('treatment')]\n",
    "\n",
    "p.value <- mean(treatment_coefs < 0) + mean(treatment_coefs > 0)\n",
    "\n",
    "cat(\"The p-value for the treatment effect is\", round(p.value, 3), \"\\n\")\n",
    "\n",
    "\n"
   ]
  },
  {
   "cell_type": "code",
   "execution_count": 84,
   "id": "18982bfa",
   "metadata": {},
   "outputs": [
    {
     "data": {
      "image/png": "[encoded data removed]",
      "text/plain": [
       "Plot with title \"treatment effect and expected value relationships\""
      ]
     },
     "metadata": {},
     "output_type": "display_data"
    }
   ],
   "source": [
    "\n",
    "plot (0, 0, xlim=c(-10, 10), ylim=c(-10,10),\n",
    "      xlab=\"expected value\", ylab=\"treatment effect\",\n",
    "      main=\"treatment effect and expected value relationships\")\n",
    "\n",
    "abline (h = 0, lwd=.5, lty=2) # draws a horizontal line\n",
    "\n",
    "\n",
    "for (i in 1:1000) {\n",
    "    abline (a = slopes[i], b = intercepts[i],\n",
    "            lwd = .5, col = \"gray\")\n",
    "}\n",
    "\n",
    "\n",
    "abline (a = mean(slopes),\n",
    "        b = mean(intercepts),\n",
    "        lwd = 3, col = \"purple4\")\n",
    "\n",
    "\n",
    "#code is taken from sesion 3.2 cs130"
   ]
  },
  {
   "cell_type": "code",
   "execution_count": null,
   "id": "9128d81f",
   "metadata": {},
   "outputs": [],
   "source": []
  },
  {
   "cell_type": "code",
   "execution_count": null,
   "id": "5b3c02b8",
   "metadata": {},
   "outputs": [],
   "source": []
  },
  {
   "cell_type": "code",
   "execution_count": null,
   "id": "827ce342",
   "metadata": {},
   "outputs": [],
   "source": []
  },
  {
   "cell_type": "code",
   "execution_count": 53,
   "id": "da45c3d6",
   "metadata": {},
   "outputs": [
    {
     "data": {
      "text/plain": [
       "\n",
       "Call:\n",
       "lm(formula = t2000r ~ treatment + avgpoverty + treatmentpoverty + \n",
       "    pobtot1994 + t1994r + pri1994v + pan1994v + prd1994 + interaction, \n",
       "    data = progresa)\n",
       "\n",
       "Residuals:\n",
       "    Min      1Q  Median      3Q     Max \n",
       "-38.639  -4.517  -0.026   4.835  29.023 \n",
       "\n",
       "Coefficients:\n",
       "                   Estimate Std. Error t value Pr(>|t|)    \n",
       "(Intercept)       4.142e+01  8.253e+00   5.019 7.78e-07 ***\n",
       "treatment        -7.618e+00  7.933e+00  -0.960 0.337473    \n",
       "avgpoverty       -1.288e+00  1.473e+00  -0.874 0.382537    \n",
       "treatmentpoverty  1.442e+00  1.721e+00   0.838 0.402669    \n",
       "pobtot1994       -5.374e-05  5.878e-05  -0.914 0.361156    \n",
       "t1994r            2.280e-01  3.062e-02   7.446 5.83e-13 ***\n",
       "pri1994v          6.983e-02  3.651e-02   1.913 0.056509 .  \n",
       "pan1994v          2.073e-01  5.601e-02   3.700 0.000245 ***\n",
       "prd1994           9.197e-03  7.617e-03   1.207 0.227953    \n",
       "interaction       2.117e-02  3.301e-02   0.641 0.521653    \n",
       "---\n",
       "Signif. codes:  0 '***' 0.001 '**' 0.01 '*' 0.05 '.' 0.1 ' ' 1\n",
       "\n",
       "Residual standard error: 7.819 on 406 degrees of freedom\n",
       "Multiple R-squared:  0.1799,\tAdjusted R-squared:  0.1617 \n",
       "F-statistic: 9.893 on 9 and 406 DF,  p-value: 9.413e-14\n"
      ]
     },
     "metadata": {},
     "output_type": "display_data"
    },
    {
     "name": "stdout",
     "output_type": "stream",
     "text": [
      "\n",
      "RMSE =  59.52462"
     ]
    }
   ],
   "source": [
    "#part 5\n",
    "# Create the interaction term\n",
    "progresa$treatmentpoverty <- progresa$treatment * progresa$avgpoverty\n",
    "\n",
    "\n",
    "RegressionModel1 <- lm(t2000r ~ treatment + avgpoverty + treatmentpoverty + pobtot1994 +\n",
    "t1994r + pri1994v + pan1994v+ prd1994 + interaction,\n",
    "data = progresa)\n",
    "\n",
    "summary(RegressionModel1)\n",
    "\n",
    "\n",
    "residuals <- round(predict(RegressionModel1)) - progresa$t2000r\n",
    "cat(\"\\nRMSE = \", mean(residuals^2))\n",
    "\n",
    "\n"
   ]
  },
  {
   "cell_type": "code",
   "execution_count": 54,
   "id": "89bcf0ef",
   "metadata": {},
   "outputs": [
    {
     "data": {
      "text/html": [
       "146.208072659169"
      ],
      "text/latex": [
       "146.208072659169"
      ],
      "text/markdown": [
       "146.208072659169"
      ],
      "text/plain": [
       "[1] 146.2081"
      ]
     },
     "metadata": {},
     "output_type": "display_data"
    }
   ],
   "source": [
    "# Get the variance-covariance matrix\n",
    "vcov_mat <- vcov(RegressionModel1)\n",
    "\n",
    "# Define the coefficients of the linear combination\n",
    "a <- 1\n",
    "b <- 2\n",
    "c <- -1\n",
    "\n",
    "# Calculate the LCOV\n",
    "l_cov <- a^2 * vcov_mat[2,2] + b^2 * vcov_mat[3,3] + c^2 * vcov_mat[4,4] +\n",
    "         2*a*b*vcov_mat[2,3] + 2*a*c*vcov_mat[2,4] + 2*b*c*vcov_mat[3,4]\n",
    "\n",
    "# Print the result\n",
    "l_cov\n",
    "#code was adopted from chat gpt"
   ]
  },
  {
   "cell_type": "code",
   "execution_count": null,
   "id": "1b2997c8",
   "metadata": {},
   "outputs": [],
   "source": [
    "\n"
   ]
  },
  {
   "cell_type": "code",
   "execution_count": null,
   "id": "78da961a",
   "metadata": {},
   "outputs": [],
   "source": []
  },
  {
   "cell_type": "code",
   "execution_count": 55,
   "id": "66926093",
   "metadata": {},
   "outputs": [
    {
     "data": {
      "text/plain": [
       "\n",
       "Call:\n",
       "lm(formula = t2000r ~ treatment + avgpoverty + treatmentpovertysqr + \n",
       "    pobtot1994 + t1994r + pri1994v + pan1994v + prd1994 + interaction, \n",
       "    data = progresa)\n",
       "\n",
       "Residuals:\n",
       "    Min      1Q  Median      3Q     Max \n",
       "-38.648  -4.511   0.000   4.848  29.008 \n",
       "\n",
       "Coefficients:\n",
       "                      Estimate Std. Error t value Pr(>|t|)    \n",
       "(Intercept)          4.114e+01  8.259e+00   4.982 9.35e-07 ***\n",
       "treatment           -4.320e+00  4.295e+00  -1.006 0.315041    \n",
       "avgpoverty          -1.227e+00  1.473e+00  -0.833 0.405159    \n",
       "treatmentpovertysqr  1.558e-01  1.983e-01   0.786 0.432521    \n",
       "pobtot1994          -5.633e-05  5.851e-05  -0.963 0.336240    \n",
       "t1994r               2.279e-01  3.062e-02   7.444 5.91e-13 ***\n",
       "pri1994v             6.993e-02  3.651e-02   1.915 0.056173 .  \n",
       "pan1994v             2.073e-01  5.603e-02   3.699 0.000246 ***\n",
       "prd1994              9.212e-03  7.618e-03   1.209 0.227256    \n",
       "interaction          2.125e-02  3.302e-02   0.644 0.520121    \n",
       "---\n",
       "Signif. codes:  0 '***' 0.001 '**' 0.01 '*' 0.05 '.' 0.1 ' ' 1\n",
       "\n",
       "Residual standard error: 7.82 on 406 degrees of freedom\n",
       "Multiple R-squared:  0.1797,\tAdjusted R-squared:  0.1615 \n",
       "F-statistic: 9.881 on 9 and 406 DF,  p-value: 9.787e-14\n"
      ]
     },
     "metadata": {},
     "output_type": "display_data"
    },
    {
     "name": "stdout",
     "output_type": "stream",
     "text": [
      "\n",
      "RMSE = 59.56975"
     ]
    }
   ],
   "source": [
    "# Create the interaction term\n",
    "progresa$treatmentpovertysqr <- progresa$treatment * progresa$avgpoverty^2\n",
    "\n",
    "\n",
    "RegressionModel2 <- lm(t2000r ~ treatment+ avgpoverty + treatmentpovertysqr + pobtot1994 +\n",
    "t1994r + pri1994v + pan1994v+ prd1994 + interaction,\n",
    "data = progresa)\n",
    "\n",
    "summary(RegressionModel2)\n",
    "\n",
    "residuals <- round(predict(RegressionModel2)) - progresa$t2000r\n",
    "cat(\"\\nRMSE =\", mean(residuals^2))\n"
   ]
  },
  {
   "cell_type": "code",
   "execution_count": 56,
   "id": "e8f8e993",
   "metadata": {},
   "outputs": [
    {
     "data": {
      "text/html": [
       "49.3025936252452"
      ],
      "text/latex": [
       "49.3025936252452"
      ],
      "text/markdown": [
       "49.3025936252452"
      ],
      "text/plain": [
       "[1] 49.30259"
      ]
     },
     "metadata": {},
     "output_type": "display_data"
    }
   ],
   "source": [
    "# Get the variance-covariance matrix\n",
    "vcov_mat <- vcov(RegressionModel2)\n",
    "\n",
    "# Define the coefficients of the linear combination\n",
    "a <- 1\n",
    "b <- 2\n",
    "c <- -1\n",
    "\n",
    "# Calculate the LCOV\n",
    "l_cov <- a^2 * vcov_mat[2,2] + b^2 * vcov_mat[3,3] + c^2 * vcov_mat[4,4] +\n",
    "         2*a*b*vcov_mat[2,3] + 2*a*c*vcov_mat[2,4] + 2*b*c*vcov_mat[3,4]\n",
    "\n",
    "# Print the result\n",
    "l_cov\n",
    "#code was adopted from chat gpt"
   ]
  },
  {
   "cell_type": "code",
   "execution_count": null,
   "id": "216c016b",
   "metadata": {},
   "outputs": [],
   "source": []
  },
  {
   "cell_type": "code",
   "execution_count": null,
   "id": "c594de8a",
   "metadata": {},
   "outputs": [],
   "source": []
  },
  {
   "cell_type": "code",
   "execution_count": null,
   "id": "ddd52030",
   "metadata": {},
   "outputs": [],
   "source": []
  },
  {
   "cell_type": "code",
   "execution_count": null,
   "id": "a606af33",
   "metadata": {},
   "outputs": [],
   "source": []
  },
  {
   "cell_type": "code",
   "execution_count": null,
   "id": "c6c47399",
   "metadata": {},
   "outputs": [],
   "source": []
  },
  {
   "cell_type": "code",
   "execution_count": null,
   "id": "e00ca879",
   "metadata": {},
   "outputs": [],
   "source": [
    "\n"
   ]
  }
 ],
 "metadata": {
  "kernelspec": {
   "display_name": "R",
   "language": "R",
   "name": "ir"
  },
  "language_info": {
   "codemirror_mode": "r",
   "file_extension": ".r",
   "mimetype": "text/x-r-source",
   "name": "R",
   "pygments_lexer": "r",
   "version": "3.6.1"
  }
 },
 "nbformat": 4,
 "nbformat_minor": 5
}
